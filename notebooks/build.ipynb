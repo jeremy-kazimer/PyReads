{
 "cells": [
  {
   "cell_type": "code",
   "execution_count": 62,
   "id": "eac30e39",
   "metadata": {},
   "outputs": [],
   "source": [
    "import httpx\n",
    "from bs4 import BeautifulSoup\n",
    "\n",
    "url = \"https://www.goodreads.com/review/list/96888-mary?shelf=read\"\n",
    "\n",
    "def get_response(url):\n",
    "    headers = {\n",
    "        \"User-Agent\": \"Mozilla/5.0 (Macintosh; Intel Mac OS X 10_15_7) AppleWebKit/537.36 (KHTML, like Gecko) Chrome/120.0.0.0 Safari/537.36\"\n",
    "    }\n",
    "    with httpx.Client(headers=headers, follow_redirects=True) as client:\n",
    "        response = client.get(url)\n",
    "        if response.status_code == 200:\n",
    "            return response.text\n",
    "        elif response.status_code == 404:\n",
    "            raise ValueError(f\"404 Not Found: {response.url}\")\n",
    "        else:\n",
    "            raise ValueError(f\"Unexpected status: {response.status_code}\")"
   ]
  },
  {
   "cell_type": "code",
   "execution_count": 70,
   "id": "7963fc24",
   "metadata": {},
   "outputs": [
    {
     "name": "stderr",
     "output_type": "stream",
     "text": [
      "/Users/jkazimer1/Documents/GitHub/PyReads/.venv/lib/python3.12/site-packages/numpy/lib/array_utils.py:1: RuntimeWarning: coroutine 'get_html' was never awaited\n",
      "  from ._array_utils_impl import (  # noqa: F401\n",
      "RuntimeWarning: Enable tracemalloc to get the object allocation traceback\n"
     ]
    },
    {
     "name": "stdout",
     "output_type": "stream",
     "text": [
      "   parsed_date                                             review\n",
      "0   2010-12-18  I'd love to be a whole lot more like Ruth Reic...\n",
      "1   2010-10-31                                             Bleak!\n",
      "2   2010-12-02  I can't believe I slogged through the whole th...\n",
      "3   2010-09-19  Good golly. There was so much promise here: th...\n",
      "4   2010-09-03  **spoiler alert** Hm. I'm not sure what to say...\n",
      "5   2010-08-30  What I like about The Hunger Games was how it ...\n",
      "6   2010-08-24  Engaging, but just not emotional. The writing ...\n",
      "7   2010-07-22  Very fun, very McMurtry, and therefore very ea...\n",
      "8   2010-05-18  I'm sad that I've already forgotten all of the...\n",
      "9   2010-04-30  A helpful chapter-by-chapter overview for a fi...\n",
      "10  2010-04-30  It's hard to give a rating to this book. I lik...\n",
      "11  2010-02-15  I was preparing for a trip to visit Seattle fo...\n",
      "12  2010-02-03  It's hard to rate The Odyssey. It's like a mor...\n",
      "13  2010-01-06  Once for an MTV awards show, Ben Stiller playe...\n",
      "14  2009-12-31  Really, really sweet. A great story with a mai...\n",
      "15  2009-12-31  Too many characters to keep track of at first,...\n",
      "16  2009-12-31  2.5 stars. I love how he writes, but this stor...\n",
      "17  2009-10-31  Sweet, quiet, a little slow sometimes, but ove...\n",
      "18  2009-10-31  Russo is a master of character, and everyone i...\n",
      "19  2009-09-30  Really, really heartbreaking. What's worse is ...\n"
     ]
    }
   ],
   "source": [
    "import re\n",
    "from datetime import datetime\n",
    "from calendar import monthrange\n",
    "import pandas as pd\n",
    "\n",
    "html = get_response(url)\n",
    "soup = BeautifulSoup(html, \"html.parser\")\n",
    "# Find all <tr> tags with id starting with 'review_'\n",
    "review_trs = soup.find_all('tr', id=re.compile(r'^review_'))\n",
    "# Extract date strings and review text\n",
    "data = []\n",
    "for tr in review_trs:\n",
    "    # Date extraction\n",
    "    date_span = tr.find('span', class_='date_read_value')\n",
    "    date_str = date_span.get_text(strip=True) if date_span else None\n",
    "    # Review extraction\n",
    "    review_span = tr.find('span', id=re.compile(r'^freeTextContainerreview'))\n",
    "    review_text = review_span.get_text(strip=True) if review_span else None\n",
    "    data.append({'date': date_str, 'review': review_text})\n",
    "\n",
    "def parse_date(date_str):\n",
    "    for fmt in (\"%b %d, %Y\", \"%b %Y\"):\n",
    "        try:\n",
    "            dt = datetime.strptime(date_str, fmt)\n",
    "            if fmt == \"%b %Y\":\n",
    "                # Set to last day of the month\n",
    "                last_day = monthrange(dt.year, dt.month)[1]\n",
    "                dt = dt.replace(day=last_day)\n",
    "            return dt\n",
    "        except Exception:\n",
    "            continue\n",
    "    return None\n",
    "\n",
    "# Parse dates and build DataFrame\n",
    "for row in data:\n",
    "    row['parsed_date'] = parse_date(row['date'])\n",
    "\n",
    "df = pd.DataFrame(data)\n",
    "print(df[['parsed_date', 'review']])\n"
   ]
  },
  {
   "cell_type": "code",
   "execution_count": null,
   "id": "5d8b1ba0",
   "metadata": {},
   "outputs": [],
   "source": []
  }
 ],
 "metadata": {
  "kernelspec": {
   "display_name": "pyreads",
   "language": "python",
   "name": "python3"
  },
  "language_info": {
   "codemirror_mode": {
    "name": "ipython",
    "version": 3
   },
   "file_extension": ".py",
   "mimetype": "text/x-python",
   "name": "python",
   "nbconvert_exporter": "python",
   "pygments_lexer": "ipython3",
   "version": "3.12.2"
  }
 },
 "nbformat": 4,
 "nbformat_minor": 5
}
